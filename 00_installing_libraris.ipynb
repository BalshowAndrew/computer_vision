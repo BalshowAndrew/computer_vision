{
 "cells": [
  {
   "cell_type": "code",
   "execution_count": 1,
   "id": "ba51ce13-c80b-4419-bc2a-43659f50d3a2",
   "metadata": {},
   "outputs": [],
   "source": [
    "#!git clone https://github.com/a4tunado/lectures.git"
   ]
  },
  {
   "cell_type": "code",
   "execution_count": 2,
   "id": "870660b9-47a7-42ad-9f48-dad992224f60",
   "metadata": {},
   "outputs": [],
   "source": [
    "#!git init"
   ]
  },
  {
   "cell_type": "code",
   "execution_count": 11,
   "id": "a879ccab-e69a-4a8a-ab7c-ceb9b24d08a8",
   "metadata": {},
   "outputs": [
    {
     "name": "stdout",
     "output_type": "stream",
     "text": [
      "On branch master\n",
      "\n",
      "No commits yet\n",
      "\n",
      "Changes to be committed:\n",
      "  (use \"git rm --cached <file>...\" to unstage)\n",
      "\t\u001b[32mnew file:   .gitignore\u001b[m\n",
      "\t\u001b[32mnew file:   00_installing_libraris.ipynb\u001b[m\n",
      "\t\u001b[32mnew file:   requirements.txt\u001b[m\n",
      "\n"
     ]
    }
   ],
   "source": [
    "!git status"
   ]
  },
  {
   "cell_type": "code",
   "execution_count": 10,
   "id": "6eadc8f9-2691-4939-b927-ac05f18a0688",
   "metadata": {},
   "outputs": [],
   "source": [
    "!git add ."
   ]
  },
  {
   "cell_type": "code",
   "execution_count": 9,
   "id": "d890ac3a-9052-4536-a7f5-093bc72e8b2a",
   "metadata": {},
   "outputs": [],
   "source": [
    "#!pip freeze"
   ]
  },
  {
   "cell_type": "code",
   "execution_count": 6,
   "id": "937ce24b-83c9-45d2-bcd3-5a7255e6b553",
   "metadata": {},
   "outputs": [],
   "source": [
    "!pip freeze > requirements.txt"
   ]
  },
  {
   "cell_type": "code",
   "execution_count": null,
   "id": "322d2ba1-4ef1-4b81-b0e2-6b46fc409458",
   "metadata": {},
   "outputs": [],
   "source": []
  }
 ],
 "metadata": {
  "kernelspec": {
   "display_name": "Python 3 (ipykernel)",
   "language": "python",
   "name": "python3"
  },
  "language_info": {
   "codemirror_mode": {
    "name": "ipython",
    "version": 3
   },
   "file_extension": ".py",
   "mimetype": "text/x-python",
   "name": "python",
   "nbconvert_exporter": "python",
   "pygments_lexer": "ipython3",
   "version": "3.12.7"
  }
 },
 "nbformat": 4,
 "nbformat_minor": 5
}
