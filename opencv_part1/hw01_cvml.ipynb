{
 "cells": [
  {
   "cell_type": "markdown",
   "id": "96410b70-037a-4335-8df1-ecc53645cfff",
   "metadata": {},
   "source": [
    "# Домашнее задание \"Сегментация и детекция объектов\""
   ]
  },
  {
   "cell_type": "markdown",
   "id": "5e33b020-2e9e-40e5-9f9e-1d316c6d7cb2",
   "metadata": {},
   "source": [
    "## Задание:"
   ]
  },
  {
   "cell_type": "markdown",
   "id": "8a6582a5-0e78-489d-a62f-8c4edc347996",
   "metadata": {},
   "source": [
    "- Построить классификатор изображений рукописного ввода на базе MNIST\n",
    "- Классификатор предлагается строить на признаках, полученных в результате предобработки изображений, например, гистограммы градиентов (HOG) или результат PCA преобразования\n",
    "- В качестве модели классификатора можно использовать любую известную модель, за исключением сверточных нейронных сетей\n",
    "- Критерием качества классификатора является метрика accuracy. Для получения зачета по данной работе, значение метрики accuracy должно быть больше 0.6\n",
    "- Метрика оценивается на тестовой выборке в рамках контеста Digit Recognizer на Kaggle"
   ]
  },
  {
   "cell_type": "code",
   "execution_count": 1,
   "id": "88dc11c3-eccc-4e73-9a13-613e22ebcf66",
   "metadata": {},
   "outputs": [],
   "source": [
    "import cv2\n",
    "import numpy as np\n",
    "import matplotlib.pyplot as plt\n",
    "\n",
    "from sklearn.model_selection import train_test_split\n",
    "from sklearn.metrics import accuracy_score, classification_report, confusion_matrix"
   ]
  },
  {
   "cell_type": "markdown",
   "id": "ad24defd-0694-43d8-9da1-9ccb83d3d7c7",
   "metadata": {},
   "source": [
    "## Загрузка данных"
   ]
  },
  {
   "cell_type": "code",
   "execution_count": 6,
   "id": "6e846f5c-7235-4c12-a1bb-f6d4315e8671",
   "metadata": {},
   "outputs": [],
   "source": [
    "train = np.loadtxt('../datas/digit/train.csv', delimiter=',', skiprows=1)"
   ]
  },
  {
   "cell_type": "code",
   "execution_count": 7,
   "id": "6a546b7b-b4e5-4c4b-b646-c747746d3db2",
   "metadata": {},
   "outputs": [
    {
     "name": "stdout",
     "output_type": "stream",
     "text": [
      "(42000, 785)\n"
     ]
    }
   ],
   "source": [
    "print(train.shape)"
   ]
  },
  {
   "cell_type": "markdown",
   "id": "ecd69e5c-46d0-45df-9898-8e60a73ae347",
   "metadata": {},
   "source": [
    "## Предобработка изображений"
   ]
  },
  {
   "cell_type": "code",
   "execution_count": 8,
   "id": "4bd23fe1-3d3f-4b82-993b-75dafbf51e06",
   "metadata": {},
   "outputs": [
    {
     "data": {
      "text/plain": [
       "(42000,)"
      ]
     },
     "execution_count": 8,
     "metadata": {},
     "output_type": "execute_result"
    }
   ],
   "source": [
    "train_label = train[:, 0]\n",
    "train_label.shape"
   ]
  },
  {
   "cell_type": "code",
   "execution_count": 9,
   "id": "4354ecfd-14ff-46c7-9c4d-7a1a159a2d45",
   "metadata": {},
   "outputs": [
    {
     "data": {
      "text/plain": [
       "(42000, 28, 28)"
      ]
     },
     "execution_count": 9,
     "metadata": {},
     "output_type": "execute_result"
    }
   ],
   "source": [
    "train_img = np.resize(train[:, 1:], (train.shape[0], 28, 28))\n",
    "train_img.shape"
   ]
  },
  {
   "cell_type": "code",
   "execution_count": null,
   "id": "af472c9b-2b4f-4913-92d1-a5ef86f0888a",
   "metadata": {},
   "outputs": [],
   "source": []
  }
 ],
 "metadata": {
  "kernelspec": {
   "display_name": "Python 3 (ipykernel)",
   "language": "python",
   "name": "python3"
  },
  "language_info": {
   "codemirror_mode": {
    "name": "ipython",
    "version": 3
   },
   "file_extension": ".py",
   "mimetype": "text/x-python",
   "name": "python",
   "nbconvert_exporter": "python",
   "pygments_lexer": "ipython3",
   "version": "3.12.7"
  }
 },
 "nbformat": 4,
 "nbformat_minor": 5
}
