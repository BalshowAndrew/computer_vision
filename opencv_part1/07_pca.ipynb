{
 "cells": [
  {
   "cell_type": "markdown",
   "id": "e433984e-cb1f-41c3-b4a6-33d0427f93c5",
   "metadata": {},
   "source": [
    "## Понижение размерности с помощью PCA"
   ]
  },
  {
   "cell_type": "code",
   "execution_count": 1,
   "id": "99676eb1-d206-4896-9895-1f49f8785624",
   "metadata": {},
   "outputs": [],
   "source": [
    "import numpy as np\n",
    "import matplotlib.pyplot as plt"
   ]
  },
  {
   "cell_type": "markdown",
   "id": "f3c1067e-ea6d-4fb7-a798-4feccb8d09be",
   "metadata": {},
   "source": [
    "## Подготовка данных"
   ]
  },
  {
   "cell_type": "code",
   "execution_count": 2,
   "id": "5c355f59-d3cf-4f98-b931-750174263922",
   "metadata": {},
   "outputs": [],
   "source": [
    "train = np.loadtxt('../datas/digit/train.csv', delimiter=',', skiprows=1)"
   ]
  },
  {
   "cell_type": "code",
   "execution_count": 3,
   "id": "56cdf1b7-2576-484f-b3ae-1c4b1af3cb9a",
   "metadata": {},
   "outputs": [
    {
     "data": {
      "text/plain": [
       "array([[1., 0., 0., ..., 0., 0., 0.],\n",
       "       [0., 0., 0., ..., 0., 0., 0.],\n",
       "       [1., 0., 0., ..., 0., 0., 0.],\n",
       "       ...,\n",
       "       [7., 0., 0., ..., 0., 0., 0.],\n",
       "       [6., 0., 0., ..., 0., 0., 0.],\n",
       "       [9., 0., 0., ..., 0., 0., 0.]])"
      ]
     },
     "execution_count": 3,
     "metadata": {},
     "output_type": "execute_result"
    }
   ],
   "source": [
    "train"
   ]
  },
  {
   "cell_type": "code",
   "execution_count": 4,
   "id": "a93692c1-6a2a-4c79-a38b-2225c3b1b4e9",
   "metadata": {},
   "outputs": [
    {
     "data": {
      "text/plain": [
       "(42000, 785)"
      ]
     },
     "execution_count": 4,
     "metadata": {},
     "output_type": "execute_result"
    }
   ],
   "source": [
    "train.shape"
   ]
  },
  {
   "cell_type": "code",
   "execution_count": 5,
   "id": "82c9218c-346c-48df-82f2-2dfc0d3d12a2",
   "metadata": {},
   "outputs": [],
   "source": [
    "# сохраняем разметку в отдельную переменную\n",
    "train_label = train[:, 0]"
   ]
  },
  {
   "cell_type": "code",
   "execution_count": 6,
   "id": "4f114da1-012b-4e6c-bff0-9d0ab14c553e",
   "metadata": {},
   "outputs": [
    {
     "data": {
      "text/plain": [
       "(42000,)"
      ]
     },
     "execution_count": 6,
     "metadata": {},
     "output_type": "execute_result"
    }
   ],
   "source": [
    "train_label.shape"
   ]
  },
  {
   "cell_type": "code",
   "execution_count": 7,
   "id": "6f46977e-d313-46c1-bbc7-9e0b640b1aad",
   "metadata": {},
   "outputs": [
    {
     "data": {
      "text/plain": [
       "42000"
      ]
     },
     "execution_count": 7,
     "metadata": {},
     "output_type": "execute_result"
    }
   ],
   "source": [
    "len(train[:, 1:])"
   ]
  },
  {
   "cell_type": "code",
   "execution_count": 8,
   "id": "48b667c6-bb9e-4abe-ad53-aacaad0a7d0c",
   "metadata": {},
   "outputs": [],
   "source": [
    "# Приводим раземерность к удобному для обработки виду\n",
    "train_img = np.reshape(train[:, 1:], (len(train[:, 1:]), 28, 28))"
   ]
  },
  {
   "cell_type": "code",
   "execution_count": 9,
   "id": "ccc62e52-7917-41fd-8cc8-8dffeecab741",
   "metadata": {},
   "outputs": [
    {
     "data": {
      "text/plain": [
       "(42000, 28, 28)"
      ]
     },
     "execution_count": 9,
     "metadata": {},
     "output_type": "execute_result"
    }
   ],
   "source": [
    "train_img.shape"
   ]
  },
  {
   "cell_type": "code",
   "execution_count": 10,
   "id": "a74ebbf7-2646-4fbb-bbda-12c3db8cc2d6",
   "metadata": {},
   "outputs": [
    {
     "data": {
      "image/png": "[encoded data removed]",
      "text/plain": [
       "<Figure size 2000x1000 with 5 Axes>"
      ]
     },
     "metadata": {},
     "output_type": "display_data"
    }
   ],
   "source": [
    "fig = plt.figure(figsize=(20, 10))\n",
    "for i, img in enumerate(train_img[0:5], 1):\n",
    "    subplot = fig.add_subplot(1, 7, i)\n",
    "    plt.imshow(img, cmap='gray');\n",
    "    subplot.set_title(f\"{train_label[i - 1]}\");"
   ]
  },
  {
   "cell_type": "markdown",
   "id": "634ca116-efb1-4ce5-9276-ba24584b8b6c",
   "metadata": {},
   "source": [
    "## Выбираем семпл для обработки"
   ]
  },
  {
   "cell_type": "code",
   "execution_count": 11,
   "id": "f50f200f-77c2-4a6c-b9c2-3d8ad5e905c8",
   "metadata": {},
   "outputs": [],
   "source": [
    "# Случаяным образом из 42,000 значений выбираем 10,000:\n",
    "choices = np.random.choice(train_img.shape[0], 10000)"
   ]
  },
  {
   "cell_type": "code",
   "execution_count": 12,
   "id": "058d6cb7-11eb-4c8f-849b-690afb7c38e9",
   "metadata": {},
   "outputs": [],
   "source": [
    "y = train_label[choices]\n",
    "X = train_img[choices].reshape(-1, 28 * 28).astype(np.float32)"
   ]
  },
  {
   "cell_type": "code",
   "execution_count": 13,
   "id": "6a4fe0e5-e790-4e2d-bcbd-67dceb8ea41b",
   "metadata": {},
   "outputs": [
    {
     "data": {
      "text/plain": [
       "(10000, 784)"
      ]
     },
     "execution_count": 13,
     "metadata": {},
     "output_type": "execute_result"
    }
   ],
   "source": [
    "X.shape"
   ]
  },
  {
   "cell_type": "markdown",
   "id": "289677a5-165b-4d8b-b1e8-6399ab737659",
   "metadata": {},
   "source": [
    "## Центрируем данные"
   ]
  },
  {
   "cell_type": "code",
   "execution_count": 14,
   "id": "498b1f11-62e1-4e66-8231-ec6d0e36d3a4",
   "metadata": {},
   "outputs": [
    {
     "data": {
      "text/plain": [
       "(784,)"
      ]
     },
     "execution_count": 14,
     "metadata": {},
     "output_type": "execute_result"
    }
   ],
   "source": [
    "X_mean = X.mean(axis=0)\n",
    "X_mean.shape"
   ]
  },
  {
   "cell_type": "code",
   "execution_count": 15,
   "id": "05220404-513d-4a88-b279-b9127abc5019",
   "metadata": {},
   "outputs": [],
   "source": [
    "X -= X_mean"
   ]
  },
  {
   "cell_type": "code",
   "execution_count": 16,
   "id": "5cfa36fd-9e6c-4f56-8882-a0d37f12718e",
   "metadata": {},
   "outputs": [
    {
     "data": {
      "text/plain": [
       "(10000, 784)"
      ]
     },
     "execution_count": 16,
     "metadata": {},
     "output_type": "execute_result"
    }
   ],
   "source": [
    "X.shape"
   ]
  },
  {
   "cell_type": "markdown",
   "id": "466a958b-9252-4f70-bcc9-6f42a558301b",
   "metadata": {},
   "source": [
    "## Матрица ковариации признаков"
   ]
  },
  {
   "cell_type": "code",
   "execution_count": 17,
   "id": "29701aa6-5cb2-4e80-ac06-7b6866da07cf",
   "metadata": {},
   "outputs": [
    {
     "data": {
      "text/plain": [
       "(784, 784)"
      ]
     },
     "execution_count": 17,
     "metadata": {},
     "output_type": "execute_result"
    }
   ],
   "source": [
    "cov = np.dot(X.T, X) / X.shape[0]\n",
    "cov.shape"
   ]
  },
  {
   "cell_type": "markdown",
   "id": "bf24d11a-1f99-4b13-97ec-2c76ffc8f37f",
   "metadata": {},
   "source": [
    "## Собственные вектора матрыцы ковариации и собственные значения\n",
    "\n",
    "- U - собственные вектора матрыцы ковариации,\n",
    "- S - собственные значения"
   ]
  },
  {
   "cell_type": "code",
   "execution_count": 19,
   "id": "a6a4e1cc-f118-4459-8af5-317200980cfd",
   "metadata": {},
   "outputs": [],
   "source": [
    "U, S, _ = np.linalg.svd(cov)"
   ]
  },
  {
   "cell_type": "code",
   "execution_count": 20,
   "id": "8aa51e7c-e3cc-478a-8349-98759391fe79",
   "metadata": {},
   "outputs": [
    {
     "data": {
      "text/plain": [
       "(784, 784)"
      ]
     },
     "execution_count": 20,
     "metadata": {},
     "output_type": "execute_result"
    }
   ],
   "source": [
    "U.shape"
   ]
  },
  {
   "cell_type": "code",
   "execution_count": 21,
   "id": "56dad952-a847-466e-b9e5-f989727fb5f4",
   "metadata": {},
   "outputs": [
    {
     "data": {
      "text/plain": [
       "(784,)"
      ]
     },
     "execution_count": 21,
     "metadata": {},
     "output_type": "execute_result"
    }
   ],
   "source": [
    "S.shape"
   ]
  },
  {
   "cell_type": "markdown",
   "id": "75b2fb98-aab2-4122-ac44-003fb8ea5f90",
   "metadata": {},
   "source": [
    "## Собственные числа"
   ]
  },
  {
   "cell_type": "code",
   "execution_count": 22,
   "id": "8f9642b8-00bf-4b99-851c-e30afbe8ef19",
   "metadata": {},
   "outputs": [
    {
     "data": {
      "text/plain": [
       "[<matplotlib.lines.Line2D at 0x7f3db4434e90>]"
      ]
     },
     "execution_count": 22,
     "metadata": {},
     "output_type": "execute_result"
    },
    {
     "data": {
      "image/png": "[encoded data removed]",
      "text/plain": [
       "<Figure size 640x480 with 1 Axes>"
      ]
     },
     "metadata": {},
     "output_type": "display_data"
    }
   ],
   "source": [
    "# Накопленная сумма собственных значений\n",
    "S_cumsum = np.cumsum(S) / np.sum(S)\n",
    "plt.plot(S_cumsum, 'o')"
   ]
  },
  {
   "cell_type": "code",
   "execution_count": 23,
   "id": "497b8c0e-e178-47ff-9b5c-a1abecadd61d",
   "metadata": {},
   "outputs": [
    {
     "name": "stdout",
     "output_type": "stream",
     "text": [
      "[000] 0.101\n",
      "[001] 0.171\n",
      "[002] 0.233\n",
      "[003] 0.286\n",
      "[004] 0.335\n"
     ]
    }
   ],
   "source": [
    "for i in range(5):\n",
    "    print('[%03d] %.3f' % (i, S_cumsum[i]))"
   ]
  },
  {
   "cell_type": "markdown",
   "id": "770bfb5c-01a0-45cb-8ca1-e1d66992955b",
   "metadata": {},
   "source": [
    "## Понижаем размерность"
   ]
  },
  {
   "cell_type": "code",
   "execution_count": 24,
   "id": "0fd7c918-4d86-4e8a-b30f-a1b7675ce464",
   "metadata": {},
   "outputs": [
    {
     "name": "stdout",
     "output_type": "stream",
     "text": [
      "n_comp=32 S=0.751\n"
     ]
    }
   ],
   "source": [
    "# Задаем порог накопленной суммы собственных значений\n",
    "S_thr = 0.75 \n",
    "# определяем необходимое число компонентов для заданного порога\n",
    "n_comp = np.argmax(np.where(S_cumsum > S_thr, 1, 0))\n",
    "print('n_comp=%d S=%.3f' % (n_comp, S_cumsum[n_comp]))"
   ]
  },
  {
   "cell_type": "markdown",
   "id": "fd0f11d2-2793-444a-b009-9735010dbe8b",
   "metadata": {},
   "source": [
    "Получаем сжатое представление объектов:"
   ]
  },
  {
   "cell_type": "code",
   "execution_count": 25,
   "id": "a1d7628b-4d5b-4fd1-8660-965948858312",
   "metadata": {},
   "outputs": [],
   "source": [
    "Xrot_reduced = np.dot(X, U[:, :n_comp])"
   ]
  },
  {
   "cell_type": "code",
   "execution_count": 26,
   "id": "2c78ae3c-6f62-44b8-a816-f6fdde5ddea4",
   "metadata": {},
   "outputs": [
    {
     "data": {
      "text/plain": [
       "(10000, 32)"
      ]
     },
     "execution_count": 26,
     "metadata": {},
     "output_type": "execute_result"
    }
   ],
   "source": [
    "Xrot_reduced.shape"
   ]
  },
  {
   "cell_type": "markdown",
   "id": "28df2d17-5fee-42a7-9ada-e6dd73ecbfac",
   "metadata": {},
   "source": [
    "## Восстанавливаем изображение после понижения размерности"
   ]
  },
  {
   "cell_type": "code",
   "execution_count": 27,
   "id": "48ecf0c6-8f0e-4816-90e4-8d76d36fc7aa",
   "metadata": {},
   "outputs": [],
   "source": [
    "Xrot_restored = np.dot(Xrot_reduced, U[:, :n_comp].T)"
   ]
  },
  {
   "cell_type": "code",
   "execution_count": 28,
   "id": "5a8b00f1-fac9-412e-8cba-c98d01f42629",
   "metadata": {},
   "outputs": [
    {
     "data": {
      "text/plain": [
       "(10000, 784)"
      ]
     },
     "execution_count": 28,
     "metadata": {},
     "output_type": "execute_result"
    }
   ],
   "source": [
    "Xrot_restored.shape"
   ]
  },
  {
   "cell_type": "code",
   "execution_count": 29,
   "id": "9ef08460-acd9-4dba-a611-d875daae5cb9",
   "metadata": {},
   "outputs": [
    {
     "data": {
      "image/png": "[encoded data removed]",
      "text/plain": [
       "<Figure size 2000x1000 with 6 Axes>"
      ]
     },
     "metadata": {},
     "output_type": "display_data"
    }
   ],
   "source": [
    "# Исходные изображения\n",
    "fig = plt.figure(figsize=(20, 10))\n",
    "for i, img in enumerate(X[0:6], 1):\n",
    "    subplot = fig.add_subplot(1, 7, i)\n",
    "    img_ = img + X_mean\n",
    "    plt.title(f\"{y[i-1]}\")\n",
    "    plt.imshow(img_.reshape((28, 28)) + X_mean.reshape((28, 28)), cmap='gray')"
   ]
  },
  {
   "cell_type": "code",
   "execution_count": 30,
   "id": "abbdf4fe-5b4c-4046-96d3-b9e1f7c49744",
   "metadata": {},
   "outputs": [
    {
     "data": {
      "image/png": "[encoded data removed]",
      "text/plain": [
       "<Figure size 2000x1000 with 6 Axes>"
      ]
     },
     "metadata": {},
     "output_type": "display_data"
    }
   ],
   "source": [
    "# Восстановленные изображения\n",
    "fig = plt.figure(figsize=(20, 10))\n",
    "for i, img in enumerate(Xrot_restored[0:6], 1):\n",
    "    subplot = fig.add_subplot(1, 7, i)\n",
    "    img_ = img + X_mean\n",
    "    plt.title(f\"{y[i-1]}\")\n",
    "    plt.imshow(img_.reshape((28, 28)) + X_mean.reshape((28, 28)), cmap='gray')"
   ]
  },
  {
   "cell_type": "markdown",
   "id": "f7f88c59-394f-4a85-9dde-c36610ebc8f7",
   "metadata": {},
   "source": [
    "## Визуализация собственных векторов"
   ]
  },
  {
   "cell_type": "code",
   "execution_count": 31,
   "id": "a92b7fc1-8a39-4d79-85ee-bc53b0a2ea52",
   "metadata": {},
   "outputs": [
    {
     "data": {
      "image/png": "[encoded data removed]",
      "text/plain": [
       "<Figure size 2000x1000 with 5 Axes>"
      ]
     },
     "metadata": {},
     "output_type": "display_data"
    }
   ],
   "source": [
    "fig = plt.figure(figsize=(20, 10))\n",
    "for i, img in enumerate(U.T[:5, :], 1):\n",
    "    subplot = fig.add_subplot(1, 5, i)\n",
    "    plt.imshow(img.reshape((28, 28)), cmap='gray')"
   ]
  },
  {
   "cell_type": "code",
   "execution_count": null,
   "id": "d410af37-2b23-4070-a4f4-5746f91d4b29",
   "metadata": {},
   "outputs": [],
   "source": []
  }
 ],
 "metadata": {
  "kernelspec": {
   "display_name": "Python 3 (ipykernel)",
   "language": "python",
   "name": "python3"
  },
  "language_info": {
   "codemirror_mode": {
    "name": "ipython",
    "version": 3
   },
   "file_extension": ".py",
   "mimetype": "text/x-python",
   "name": "python",
   "nbconvert_exporter": "python",
   "pygments_lexer": "ipython3",
   "version": "3.12.7"
  }
 },
 "nbformat": 4,
 "nbformat_minor": 5
}
