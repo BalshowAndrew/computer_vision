{
 "cells": [
  {
   "cell_type": "code",
   "execution_count": 1,
   "id": "a2bec02e-6804-49b3-a2ae-319045138f0e",
   "metadata": {},
   "outputs": [],
   "source": [
    "import numpy as np"
   ]
  },
  {
   "cell_type": "markdown",
   "id": "a7758a08-26db-46e1-80c5-c0436ec202bd",
   "metadata": {},
   "source": [
    "## Создаем признаки x, y, z"
   ]
  },
  {
   "cell_type": "code",
   "execution_count": 2,
   "id": "907309ce-f227-43d0-8e04-dad4cb447040",
   "metadata": {},
   "outputs": [],
   "source": [
    "SIZE = 1000\n",
    "np.random.seed(123)\n",
    "x = np.random.normal(size=SIZE)\n",
    "y = np.random.normal(size=SIZE)"
   ]
  },
  {
   "cell_type": "code",
   "execution_count": 3,
   "id": "39f407d9-903f-4eb3-ba69-9a5698460191",
   "metadata": {},
   "outputs": [],
   "source": [
    "z = (x + y) / 2"
   ]
  },
  {
   "cell_type": "markdown",
   "id": "78092658-60f2-4aa6-957c-b5c1fa54058d",
   "metadata": {},
   "source": [
    "## Объединяем все эти значения в матрицу F"
   ]
  },
  {
   "cell_type": "code",
   "execution_count": 4,
   "id": "04efe8bc-c5e0-43ab-b692-5bc023ce2312",
   "metadata": {},
   "outputs": [],
   "source": [
    "F = np.vstack([x, y, z])"
   ]
  },
  {
   "cell_type": "markdown",
   "id": "7fb508cc-24e6-40ca-8621-1298600998b1",
   "metadata": {},
   "source": [
    "## Вычисляем матрицу Грама"
   ]
  },
  {
   "cell_type": "code",
   "execution_count": 5,
   "id": "fba9ea31-a8b5-4361-bc59-f794a4e3b8e8",
   "metadata": {},
   "outputs": [],
   "source": [
    "FF = 1 / SIZE * F @ F.T"
   ]
  },
  {
   "cell_type": "code",
   "execution_count": 13,
   "id": "578a3273-d88a-4107-9688-021b5f69a891",
   "metadata": {},
   "outputs": [
    {
     "data": {
      "text/plain": [
       "array([[ 1.00314102, -0.03032538,  0.48640782],\n",
       "       [-0.03032538,  0.91785269,  0.44376365],\n",
       "       [ 0.48640782,  0.44376365,  0.46508574]])"
      ]
     },
     "execution_count": 13,
     "metadata": {},
     "output_type": "execute_result"
    }
   ],
   "source": [
    "FF"
   ]
  },
  {
   "cell_type": "markdown",
   "id": "6c4cf333-4e52-44f4-96a5-42d2a7084a58",
   "metadata": {},
   "source": [
    "## Вычисляем собственные векторы и собственные числа"
   ]
  },
  {
   "cell_type": "code",
   "execution_count": 6,
   "id": "c73923b8-fc28-4213-ba05-4b8a7a114309",
   "metadata": {},
   "outputs": [],
   "source": [
    "L, W = np.linalg.eig(FF)"
   ]
  },
  {
   "cell_type": "code",
   "execution_count": 18,
   "id": "d09a424f-1e13-483e-95c4-67be1e4c2b85",
   "metadata": {},
   "outputs": [
    {
     "data": {
      "text/plain": [
       "[np.float64(1.4018930165258376),\n",
       " np.float64(0.9841864212968798),\n",
       " np.float64(0.0)]"
      ]
     },
     "execution_count": 18,
     "metadata": {},
     "output_type": "execute_result"
    }
   ],
   "source": [
    "sorted(L, reverse=True)"
   ]
  },
  {
   "cell_type": "code",
   "execution_count": 10,
   "id": "86ff3c18-8930-4e2c-82b3-fb2c7cf25f2d",
   "metadata": {},
   "outputs": [
    {
     "data": {
      "text/plain": [
       "(3,)"
      ]
     },
     "execution_count": 10,
     "metadata": {},
     "output_type": "execute_result"
    }
   ],
   "source": [
    "L.shape"
   ]
  },
  {
   "cell_type": "code",
   "execution_count": 9,
   "id": "67d560d3-5394-4298-9714-0bb30e632dbc",
   "metadata": {},
   "outputs": [
    {
     "data": {
      "text/plain": [
       "array([[ 0.40824829,  0.66187026, -0.62869793],\n",
       "       [ 0.40824829,  0.4836216 ,  0.77423735],\n",
       "       [-0.81649658,  0.57274593,  0.07276971]])"
      ]
     },
     "execution_count": 9,
     "metadata": {},
     "output_type": "execute_result"
    }
   ],
   "source": [
    "W"
   ]
  },
  {
   "cell_type": "code",
   "execution_count": 11,
   "id": "7d3ef965-647e-460f-aee0-e9cccae9055a",
   "metadata": {},
   "outputs": [
    {
     "data": {
      "text/plain": [
       "(3, 3)"
      ]
     },
     "execution_count": 11,
     "metadata": {},
     "output_type": "execute_result"
    }
   ],
   "source": [
    "W.shape"
   ]
  },
  {
   "cell_type": "markdown",
   "id": "25ce9e40-db93-481f-9c27-b5536cf85d39",
   "metadata": {},
   "source": [
    "### Сортируем собственные векторы по убыванию собственных чисел:"
   ]
  },
  {
   "cell_type": "code",
   "execution_count": 7,
   "id": "f8935e9a-4d90-4e98-85ed-ba4de75bdb84",
   "metadata": {},
   "outputs": [],
   "source": [
    "WW = sorted(zip(L, W.T), key=lambda lx: lx[0], reverse=True)"
   ]
  },
  {
   "cell_type": "code",
   "execution_count": 15,
   "id": "b8087c97-0268-44f9-b525-a94635452630",
   "metadata": {},
   "outputs": [],
   "source": [
    "WW = np.array([w[1] for w in WW])"
   ]
  },
  {
   "cell_type": "code",
   "execution_count": 16,
   "id": "04d5cd0e-73bb-4c4b-9391-0f3511bb8ec9",
   "metadata": {},
   "outputs": [
    {
     "data": {
      "text/plain": [
       "(3, 3)"
      ]
     },
     "execution_count": 16,
     "metadata": {},
     "output_type": "execute_result"
    }
   ],
   "source": [
    "WW.shape"
   ]
  },
  {
   "cell_type": "code",
   "execution_count": 17,
   "id": "bb3ed9fa-d934-4c33-b00b-d0961c067e9c",
   "metadata": {},
   "outputs": [
    {
     "data": {
      "text/plain": [
       "array([[ 0.66187026,  0.4836216 ,  0.57274593],\n",
       "       [-0.62869793,  0.77423735,  0.07276971],\n",
       "       [ 0.40824829,  0.40824829, -0.81649658]])"
      ]
     },
     "execution_count": 17,
     "metadata": {},
     "output_type": "execute_result"
    }
   ],
   "source": [
    "WW"
   ]
  },
  {
   "cell_type": "code",
   "execution_count": null,
   "id": "efe646be-b121-4637-82cb-3791f6d9f5d9",
   "metadata": {},
   "outputs": [],
   "source": []
  }
 ],
 "metadata": {
  "kernelspec": {
   "display_name": "Python 3 (ipykernel)",
   "language": "python",
   "name": "python3"
  },
  "language_info": {
   "codemirror_mode": {
    "name": "ipython",
    "version": 3
   },
   "file_extension": ".py",
   "mimetype": "text/x-python",
   "name": "python",
   "nbconvert_exporter": "python",
   "pygments_lexer": "ipython3",
   "version": "3.12.7"
  }
 },
 "nbformat": 4,
 "nbformat_minor": 5
}
